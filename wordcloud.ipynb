{
 "cells": [
  {
   "cell_type": "code",
   "execution_count": 1,
   "id": "9ad6ed09-c3cd-46cd-a170-752e6ab9197e",
   "metadata": {},
   "outputs": [],
   "source": [
    "from mecab import MeCab"
   ]
  },
  {
   "cell_type": "code",
   "execution_count": 2,
   "id": "7e73f247-e0ed-45ff-88cd-aa3823493ec7",
   "metadata": {},
   "outputs": [],
   "source": [
    "from wordcloud import WordCloud"
   ]
  },
  {
   "cell_type": "code",
   "execution_count": 3,
   "id": "44014cfe-ac06-44b8-a799-c104dff2f3eb",
   "metadata": {},
   "outputs": [],
   "source": [
    "import pandas as pd"
   ]
  },
  {
   "cell_type": "code",
   "execution_count": 4,
   "id": "a37e473f-06e8-4f70-bad7-7808ecaa57be",
   "metadata": {},
   "outputs": [],
   "source": [
    "from gensim.models.word2vec import Word2Vec"
   ]
  },
  {
   "cell_type": "code",
   "execution_count": 5,
   "id": "7370e9d4-5422-4c2b-8d9b-c747340978f5",
   "metadata": {},
   "outputs": [],
   "source": [
    "mecab = MeCab()"
   ]
  },
  {
   "cell_type": "code",
   "execution_count": 6,
   "id": "3bdc4d24-772b-4fba-87f8-9a1c75e41ddf",
   "metadata": {},
   "outputs": [],
   "source": [
    "wc = WordCloud(font_path='nskr.otf', width=1000, height=1000, background_color=\"white\")"
   ]
  },
  {
   "cell_type": "code",
   "execution_count": 30,
   "id": "d3c5c200-63c5-4360-b2a4-37f6349e1809",
   "metadata": {},
   "outputs": [],
   "source": [
    "df = pd.read_csv('dataset.csv')"
   ]
  },
  {
   "cell_type": "code",
   "execution_count": 33,
   "id": "1f32d9e1-2d3f-4aa1-a90a-21d58de3f34b",
   "metadata": {},
   "outputs": [],
   "source": [
    "from tqdm.auto import tqdm"
   ]
  },
  {
   "cell_type": "code",
   "execution_count": 69,
   "id": "c80c59f2-73db-48d6-9bd1-82fd01ba0885",
   "metadata": {},
   "outputs": [],
   "source": [
    "raw = ' '.join(df['content'])"
   ]
  },
  {
   "cell_type": "code",
   "execution_count": 50,
   "id": "57cb6bd2-adaa-49a8-b2c0-a22270a30fe0",
   "metadata": {},
   "outputs": [
    {
     "data": {
      "application/vnd.jupyter.widget-view+json": {
       "model_id": "988324aeb202462992f53963866e6510",
       "version_major": 2,
       "version_minor": 0
      },
      "text/plain": [
       "  0%|          | 0/1000 [00:00<?, ?it/s]"
      ]
     },
     "metadata": {},
     "output_type": "display_data"
    }
   ],
   "source": [
    "result = []\n",
    "\n",
    "for content in tqdm(df['content']):\n",
    "    result.append(mecab.nouns(content))"
   ]
  },
  {
   "cell_type": "code",
   "execution_count": 77,
   "id": "3a00c005-a15b-478a-a6e4-ea74d2af20c2",
   "metadata": {},
   "outputs": [
    {
     "data": {
      "text/plain": [
       "1000"
      ]
     },
     "execution_count": 77,
     "metadata": {},
     "output_type": "execute_result"
    }
   ],
   "source": [
    "len(result)"
   ]
  },
  {
   "cell_type": "code",
   "execution_count": 54,
   "id": "f62d9b50-5369-42de-80a0-be152fee235e",
   "metadata": {},
   "outputs": [],
   "source": [
    "model = Word2Vec(result, window=5, min_count=2, max_vocab_size=10000)"
   ]
  },
  {
   "cell_type": "code",
   "execution_count": 62,
   "id": "076a5d1e-be38-4c2e-9964-767804bfb11f",
   "metadata": {},
   "outputs": [
    {
     "data": {
      "text/plain": [
       "0.7326828"
      ]
     },
     "execution_count": 62,
     "metadata": {},
     "output_type": "execute_result"
    }
   ],
   "source": [
    "model.wv.similarity('인공지능', '혁명')"
   ]
  },
  {
   "cell_type": "code",
   "execution_count": 63,
   "id": "d99ca814-9fa3-4554-b208-b2af7f1c9e87",
   "metadata": {},
   "outputs": [],
   "source": [
    "words = []"
   ]
  },
  {
   "cell_type": "code",
   "execution_count": 81,
   "id": "f23580ce-7aab-4132-aacb-2f7a541dd2e1",
   "metadata": {},
   "outputs": [
    {
     "data": {
      "application/vnd.jupyter.widget-view+json": {
       "model_id": "84872a8581874fb2be8ae78b3b88a4d8",
       "version_major": 2,
       "version_minor": 0
      },
      "text/plain": [
       "  0%|          | 0/1000 [00:00<?, ?it/s]"
      ]
     },
     "metadata": {},
     "output_type": "display_data"
    }
   ],
   "source": [
    "for s in tqdm(result):\n",
    "    for w in s:\n",
    "        try:\n",
    "            if model.wv.similarity('인공지능', w) > 0.7:\n",
    "                words.append(w)\n",
    "        except Exception:\n",
    "            continue"
   ]
  },
  {
   "cell_type": "code",
   "execution_count": 82,
   "id": "a970ea7f-0ad1-41f6-b40b-e3b7aaf32deb",
   "metadata": {},
   "outputs": [],
   "source": [
    "cloud = wc.generate_from_text(' '.join(words))"
   ]
  },
  {
   "cell_type": "code",
   "execution_count": 83,
   "id": "c79f9e1e-af82-40b1-9a00-f13a9618dac6",
   "metadata": {},
   "outputs": [
    {
     "data": {
      "text/plain": [
       "<wordcloud.wordcloud.WordCloud at 0x7fc51082b700>"
      ]
     },
     "execution_count": 83,
     "metadata": {},
     "output_type": "execute_result"
    }
   ],
   "source": [
    "cloud.to_file('output2.png')"
   ]
  },
  {
   "cell_type": "code",
   "execution_count": 87,
   "id": "839d46fd-4f64-44c1-873b-7a79b11b80da",
   "metadata": {
    "scrolled": true
   },
   "outputs": [
    {
     "data": {
      "text/plain": [
       "1000"
      ]
     },
     "execution_count": 87,
     "metadata": {},
     "output_type": "execute_result"
    }
   ],
   "source": [
    "len(result)"
   ]
  },
  {
   "cell_type": "code",
   "execution_count": 91,
   "id": "acfd786b-9438-4f9b-8512-7a962cf8ed40",
   "metadata": {},
   "outputs": [],
   "source": [
    "total = []\n",
    "\n",
    "for s in result:\n",
    "    for w in s:\n",
    "        total.append(w)"
   ]
  },
  {
   "cell_type": "code",
   "execution_count": 93,
   "id": "2bd08293-50af-49b4-bc72-dabca95a77de",
   "metadata": {},
   "outputs": [],
   "source": [
    "cloud = wc.generate_from_text(' '.join(total))"
   ]
  },
  {
   "cell_type": "code",
   "execution_count": 94,
   "id": "5e7a35ec-e540-4195-978c-97f130515a0a",
   "metadata": {},
   "outputs": [
    {
     "data": {
      "text/plain": [
       "<wordcloud.wordcloud.WordCloud at 0x7fc51082b700>"
      ]
     },
     "execution_count": 94,
     "metadata": {},
     "output_type": "execute_result"
    }
   ],
   "source": [
    "cloud.to_file('output3.png')"
   ]
  }
 ],
 "metadata": {
  "kernelspec": {
   "display_name": "wordcloud",
   "language": "python",
   "name": "wordcloud"
  },
  "language_info": {
   "codemirror_mode": {
    "name": "ipython",
    "version": 3
   },
   "file_extension": ".py",
   "mimetype": "text/x-python",
   "name": "python",
   "nbconvert_exporter": "python",
   "pygments_lexer": "ipython3",
   "version": "3.10.14"
  }
 },
 "nbformat": 4,
 "nbformat_minor": 5
}
